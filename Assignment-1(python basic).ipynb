{
 "cells": [
  {
   "cell_type": "code",
   "execution_count": 1,
   "metadata": {},
   "outputs": [
    {
     "name": "stdout",
     "output_type": "stream",
     "text": [
      "Requirement already up-to-date: jovian in c:\\users\\admin\\appdata\\local\\programs\\python\\python38\\lib\\site-packages (0.2.20)\n",
      "Requirement already satisfied, skipping upgrade: pyyaml in c:\\users\\admin\\appdata\\local\\programs\\python\\python38\\lib\\site-packages (from jovian) (5.3.1)\n",
      "Requirement already satisfied, skipping upgrade: click in c:\\users\\admin\\appdata\\local\\programs\\python\\python38\\lib\\site-packages (from jovian) (7.1.2)\n",
      "Requirement already satisfied, skipping upgrade: uuid in c:\\users\\admin\\appdata\\local\\programs\\python\\python38\\lib\\site-packages (from jovian) (1.30)\n",
      "Requirement already satisfied, skipping upgrade: requests in c:\\users\\admin\\appdata\\local\\programs\\python\\python38\\lib\\site-packages (from jovian) (2.23.0)\n",
      "Requirement already satisfied, skipping upgrade: urllib3!=1.25.0,!=1.25.1,<1.26,>=1.21.1 in c:\\users\\admin\\appdata\\local\\programs\\python\\python38\\lib\\site-packages (from requests->jovian) (1.25.9)\n",
      "Requirement already satisfied, skipping upgrade: chardet<4,>=3.0.2 in c:\\users\\admin\\appdata\\local\\programs\\python\\python38\\lib\\site-packages (from requests->jovian) (3.0.4)\n",
      "Requirement already satisfied, skipping upgrade: certifi>=2017.4.17 in c:\\users\\admin\\appdata\\local\\programs\\python\\python38\\lib\\site-packages (from requests->jovian) (2020.4.5.1)"
     ]
    },
    {
     "name": "stderr",
     "output_type": "stream",
     "text": [
      "WARNING: You are using pip version 20.2.1; however, version 20.2.3 is available.\n",
      "You should consider upgrading via the 'c:\\users\\admin\\appdata\\local\\programs\\python\\python38\\python.exe -m pip install --upgrade pip' command.\n"
     ]
    },
    {
     "name": "stdout",
     "output_type": "stream",
     "text": [
      "\n",
      "Requirement already satisfied, skipping upgrade: idna<3,>=2.5 in c:\\users\\admin\\appdata\\local\\programs\\python\\python38\\lib\\site-packages (from requests->jovian) (2.9)\n"
     ]
    }
   ],
   "source": [
    "!pip install jovian --upgrade  # SUYASH PRATAP SINGH"
   ]
  },
  {
   "cell_type": "code",
   "execution_count": 5,
   "metadata": {},
   "outputs": [],
   "source": [
    "project_name='python-practice-assignment'"
   ]
  },
  {
   "cell_type": "code",
   "execution_count": 6,
   "metadata": {},
   "outputs": [
    {
     "data": {
      "application/javascript": [
       "window.require && require([\"base/js/namespace\"],function(Jupyter){Jupyter.notebook.save_checkpoint()})"
      ],
      "text/plain": [
       "<IPython.core.display.Javascript object>"
      ]
     },
     "metadata": {},
     "output_type": "display_data"
    },
    {
     "name": "stdout",
     "output_type": "stream",
     "text": [
      "[jovian] Attempting to save notebook..\n",
      "[jovian] Please enter your API key ( from https://jovian.ml/ ):\n",
      "API KEY: ········\n",
      "[jovian] Creating a new project \"181b226/python-practice-assignment\"\n",
      "[jovian] Uploading notebook..\n",
      "[jovian] Capturing environment..\n"
     ]
    },
    {
     "name": "stderr",
     "output_type": "stream",
     "text": [
      "[jovian] Error: Failed to read Anaconda environment using command: \"conda env export -n base --no-builds\"\r\n"
     ]
    },
    {
     "name": "stdout",
     "output_type": "stream",
     "text": [
      "[jovian] Committed successfully! https://jovian.ml/181b226/python-practice-assignment\r\n"
     ]
    },
    {
     "data": {
      "text/plain": [
       "'https://jovian.ml/181b226/python-practice-assignment'"
      ]
     },
     "execution_count": 6,
     "metadata": {},
     "output_type": "execute_result"
    }
   ],
   "source": [
    "jovian.commit(project=project_name, privacy='secret', evironment=None)"
   ]
  },
  {
   "cell_type": "markdown",
   "metadata": {},
   "source": [
    "# Problem 1 - Variables and Data Types"
   ]
  },
  {
   "cell_type": "code",
   "execution_count": 7,
   "metadata": {},
   "outputs": [],
   "source": [
    "name = \"Suyash Pratap singh\""
   ]
  },
  {
   "cell_type": "code",
   "execution_count": 8,
   "metadata": {},
   "outputs": [],
   "source": [
    "age = 18"
   ]
  },
  {
   "cell_type": "code",
   "execution_count": 11,
   "metadata": {},
   "outputs": [],
   "source": [
    "has_android_phone = True"
   ]
  },
  {
   "cell_type": "code",
   "execution_count": 12,
   "metadata": {},
   "outputs": [
    {
     "name": "stdout",
     "output_type": "stream",
     "text": [
      "Suyash Pratap singh 18 True\n"
     ]
    }
   ],
   "source": [
    "print(name, age, has_android_phone)"
   ]
  },
  {
   "cell_type": "code",
   "execution_count": 13,
   "metadata": {},
   "outputs": [],
   "source": [
    "person = {\n",
    "    'Name': \"Suyash Pratap Singh\",\n",
    "    'Age': 18,\n",
    "    'HasAndroidPhone': True\n",
    "}"
   ]
  },
  {
   "cell_type": "code",
   "execution_count": 14,
   "metadata": {},
   "outputs": [
    {
     "name": "stdout",
     "output_type": "stream",
     "text": [
      "Suyash Pratap Singh is aged 18, and owns an Android phone.\n"
     ]
    }
   ],
   "source": [
    "print(\"{} is aged {}, and owns an {}.\".format(\n",
    "    person[\"Name\"], \n",
    "    person[\"Age\"], \n",
    "    \"Android phone\" if person[\"HasAndroidPhone\"] else \"MiPhone\"\n",
    "))"
   ]
  },
  {
   "cell_type": "code",
   "execution_count": 15,
   "metadata": {},
   "outputs": [
    {
     "name": "stdout",
     "output_type": "stream",
     "text": [
      "The key \"Name\" has the value \"Suyash Pratap Singh\" of the type \"<class 'str'>\"\n",
      "The key \"Age\" has the value \"18\" of the type \"<class 'int'>\"\n",
      "The key \"HasAndroidPhone\" has the value \"True\" of the type \"<class 'bool'>\"\n"
     ]
    }
   ],
   "source": [
    "for t,z in person.items():\n",
    "    print(\"The key \\\"{}\\\" has the value \\\"{}\\\" of the type \\\"{}\\\"\".format(t,z,type(z)));"
   ]
  },
  {
   "cell_type": "code",
   "execution_count": 16,
   "metadata": {},
   "outputs": [
    {
     "data": {
      "application/javascript": [
       "window.require && require([\"base/js/namespace\"],function(Jupyter){Jupyter.notebook.save_checkpoint()})"
      ],
      "text/plain": [
       "<IPython.core.display.Javascript object>"
      ]
     },
     "metadata": {},
     "output_type": "display_data"
    },
    {
     "name": "stdout",
     "output_type": "stream",
     "text": [
      "[jovian] Attempting to save notebook..\n",
      "[jovian] Updating notebook \"181b226/python-practice-assignment\" on https://jovian.ml/\n",
      "[jovian] Uploading notebook..\n",
      "[jovian] Committed successfully! https://jovian.ml/181b226/python-practice-assignment\n"
     ]
    },
    {
     "data": {
      "text/plain": [
       "'https://jovian.ml/181b226/python-practice-assignment'"
      ]
     },
     "execution_count": 16,
     "metadata": {},
     "output_type": "execute_result"
    }
   ],
   "source": [
    "jovian.commit(project=project_name,environment=None)"
   ]
  },
  {
   "cell_type": "markdown",
   "metadata": {},
   "source": [
    "# Problem 2 - Working with Lists"
   ]
  },
  {
   "cell_type": "code",
   "execution_count": 17,
   "metadata": {},
   "outputs": [],
   "source": [
    "my_list = ['blue',1,True]"
   ]
  },
  {
   "cell_type": "code",
   "execution_count": 18,
   "metadata": {},
   "outputs": [
    {
     "data": {
      "text/plain": [
       "['blue', 1, True]"
      ]
     },
     "execution_count": 18,
     "metadata": {},
     "output_type": "execute_result"
    }
   ],
   "source": [
    "my_list"
   ]
  },
  {
   "cell_type": "code",
   "execution_count": 19,
   "metadata": {},
   "outputs": [
    {
     "name": "stdout",
     "output_type": "stream",
     "text": [
      "My favorite color is blue\n"
     ]
    }
   ],
   "source": [
    "print('My favorite color is', my_list[0])"
   ]
  },
  {
   "cell_type": "code",
   "execution_count": 20,
   "metadata": {},
   "outputs": [
    {
     "name": "stdout",
     "output_type": "stream",
     "text": [
      "I have 1 pet(s).\n"
     ]
    }
   ],
   "source": [
    "print('I have {} pet(s).'.format(my_list[1]))"
   ]
  },
  {
   "cell_type": "code",
   "execution_count": 21,
   "metadata": {},
   "outputs": [
    {
     "name": "stdout",
     "output_type": "stream",
     "text": [
      "I have previous programming experience\n"
     ]
    }
   ],
   "source": [
    "if True:\n",
    "    print(\"I have previous programming experience\")\n",
    "else:\n",
    "    print(\"I do not have previous programming experience\")"
   ]
  },
  {
   "cell_type": "code",
   "execution_count": 22,
   "metadata": {},
   "outputs": [],
   "source": [
    "my_list.append(7)"
   ]
  },
  {
   "cell_type": "code",
   "execution_count": 23,
   "metadata": {},
   "outputs": [
    {
     "data": {
      "text/plain": [
       "['blue', 1, True, 7]"
      ]
     },
     "execution_count": 23,
     "metadata": {},
     "output_type": "execute_result"
    }
   ],
   "source": [
    "my_list"
   ]
  },
  {
   "cell_type": "code",
   "execution_count": 24,
   "metadata": {},
   "outputs": [
    {
     "data": {
      "text/plain": [
       "'blue'"
      ]
     },
     "execution_count": 24,
     "metadata": {},
     "output_type": "execute_result"
    }
   ],
   "source": [
    "my_list.pop(0)"
   ]
  },
  {
   "cell_type": "code",
   "execution_count": 25,
   "metadata": {},
   "outputs": [
    {
     "data": {
      "text/plain": [
       "[1, True, 7]"
      ]
     },
     "execution_count": 25,
     "metadata": {},
     "output_type": "execute_result"
    }
   ],
   "source": [
    "my_list"
   ]
  },
  {
   "cell_type": "code",
   "execution_count": 26,
   "metadata": {},
   "outputs": [
    {
     "name": "stdout",
     "output_type": "stream",
     "text": [
      "The list has 3 elements.\n"
     ]
    }
   ],
   "source": [
    "print(\"The list has {} elements.\".format(len(my_list)))"
   ]
  },
  {
   "cell_type": "code",
   "execution_count": 27,
   "metadata": {},
   "outputs": [
    {
     "data": {
      "application/javascript": [
       "window.require && require([\"base/js/namespace\"],function(Jupyter){Jupyter.notebook.save_checkpoint()})"
      ],
      "text/plain": [
       "<IPython.core.display.Javascript object>"
      ]
     },
     "metadata": {},
     "output_type": "display_data"
    },
    {
     "name": "stdout",
     "output_type": "stream",
     "text": [
      "[jovian] Attempting to save notebook..\n",
      "[jovian] Updating notebook \"181b226/python-practice-assignment\" on https://jovian.ml/\n",
      "[jovian] Uploading notebook..\n",
      "[jovian] Committed successfully! https://jovian.ml/181b226/python-practice-assignment\n"
     ]
    },
    {
     "data": {
      "text/plain": [
       "'https://jovian.ml/181b226/python-practice-assignment'"
      ]
     },
     "execution_count": 27,
     "metadata": {},
     "output_type": "execute_result"
    }
   ],
   "source": [
    "jovian.commit(project=project_name,environment=None)"
   ]
  },
  {
   "cell_type": "markdown",
   "metadata": {},
   "source": [
    "# Problem 3 - Conditions and loops"
   ]
  },
  {
   "cell_type": "markdown",
   "metadata": {},
   "source": [
    "# Q: Calculate and display the sum of all the numbers divisible by 7 between 18 and 534 i.e. 21+28+35+...+525+532."
   ]
  },
  {
   "cell_type": "code",
   "execution_count": 29,
   "metadata": {},
   "outputs": [
    {
     "name": "stdout",
     "output_type": "stream",
     "text": [
      "20461\n"
     ]
    }
   ],
   "source": [
    "# store the final answer in this variable\n",
    "sum_of_numbers = 0\n",
    "\n",
    "# perform the calculation here\n",
    "for i in range(18,534):\n",
    "    if i%7==0:\n",
    "        sum_of_numbers+=i\n",
    "        \n",
    "print(sum_of_numbers)"
   ]
  },
  {
   "cell_type": "code",
   "execution_count": 30,
   "metadata": {},
   "outputs": [
    {
     "name": "stdout",
     "output_type": "stream",
     "text": [
      "The sum of all the numbers divisible by 7 between 18 and 534 is 20461\n"
     ]
    }
   ],
   "source": [
    "print('The sum of all the numbers divisible by 7 between 18 and 534 is', sum_of_numbers)"
   ]
  },
  {
   "cell_type": "code",
   "execution_count": 31,
   "metadata": {},
   "outputs": [
    {
     "data": {
      "application/javascript": [
       "window.require && require([\"base/js/namespace\"],function(Jupyter){Jupyter.notebook.save_checkpoint()})"
      ],
      "text/plain": [
       "<IPython.core.display.Javascript object>"
      ]
     },
     "metadata": {},
     "output_type": "display_data"
    },
    {
     "name": "stdout",
     "output_type": "stream",
     "text": [
      "[jovian] Attempting to save notebook..\n",
      "[jovian] Updating notebook \"181b226/python-practice-assignment\" on https://jovian.ml/\n",
      "[jovian] Uploading notebook..\n",
      "[jovian] Committed successfully! https://jovian.ml/181b226/python-practice-assignment\n"
     ]
    },
    {
     "data": {
      "text/plain": [
       "'https://jovian.ml/181b226/python-practice-assignment'"
      ]
     },
     "execution_count": 31,
     "metadata": {},
     "output_type": "execute_result"
    }
   ],
   "source": [
    "jovian.commit(project=project_name,environment=None)"
   ]
  },
  {
   "cell_type": "markdown",
   "metadata": {},
   "source": [
    "# Problem 4 - Flying to the Bahamas"
   ]
  },
  {
   "cell_type": "markdown",
   "metadata": {},
   "source": [
    "# Q 1: A travel company wants to fly a plane to the Bahamas. Flying the plane costs 5000 dollars. So far, 29 people have signed up for the trip. If the company charges 200 dollars per ticket, what is the profit made by the company?"
   ]
  },
  {
   "cell_type": "code",
   "execution_count": 32,
   "metadata": {},
   "outputs": [],
   "source": [
    "cost_of_flying_plane = 5000 "
   ]
  },
  {
   "cell_type": "code",
   "execution_count": 33,
   "metadata": {},
   "outputs": [],
   "source": [
    "number_of_passengers = 29\n"
   ]
  },
  {
   "cell_type": "code",
   "execution_count": 34,
   "metadata": {},
   "outputs": [],
   "source": [
    "price_of_ticket = 200\n"
   ]
  },
  {
   "cell_type": "code",
   "execution_count": 36,
   "metadata": {},
   "outputs": [],
   "source": [
    "profit =number_of_passengers*price_of_ticket -  cost_of_flying_plane"
   ]
  },
  {
   "cell_type": "code",
   "execution_count": 37,
   "metadata": {},
   "outputs": [
    {
     "name": "stdout",
     "output_type": "stream",
     "text": [
      "The company makes of a profit of 800 dollars\n"
     ]
    }
   ],
   "source": [
    "print('The company makes of a profit of {} dollars'.format(profit))"
   ]
  },
  {
   "cell_type": "markdown",
   "metadata": {},
   "source": [
    "# Q 2: Out of the 29 people who took the flight, only 12 buy tickets to return from the Bahamas on the same plane. If the flying the plane back also costs 5000 dollars, and does the company make an overall profit or loss? The company charges the same fee of 200 dollars per ticket for the return flight."
   ]
  },
  {
   "cell_type": "code",
   "execution_count": 38,
   "metadata": {},
   "outputs": [],
   "source": [
    "number_of_passengers = 12"
   ]
  },
  {
   "cell_type": "code",
   "execution_count": 39,
   "metadata": {},
   "outputs": [
    {
     "data": {
      "text/plain": [
       "-2600"
      ]
     },
     "execution_count": 39,
     "metadata": {},
     "output_type": "execute_result"
    }
   ],
   "source": [
    "return_loss = (number_of_passengers*price_of_ticket) - cost_of_flying_plane \n",
    "return_loss"
   ]
  },
  {
   "cell_type": "code",
   "execution_count": 41,
   "metadata": {},
   "outputs": [
    {
     "data": {
      "text/plain": [
       "-1800"
      ]
     },
     "execution_count": 41,
     "metadata": {},
     "output_type": "execute_result"
    }
   ],
   "source": [
    "overall_loss = profit + return_loss\n",
    "overall_loss"
   ]
  },
  {
   "cell_type": "code",
   "execution_count": 42,
   "metadata": {},
   "outputs": [
    {
     "name": "stdout",
     "output_type": "stream",
     "text": [
      "The company makes an overall loss of -1800 dollars\n"
     ]
    }
   ],
   "source": [
    "if overall_loss > 0 :\n",
    "    print(\"The company makes an overall profit of {} dollars\".format(overall_loss))\n",
    "else:\n",
    "    print(\"The company makes an overall loss of {} dollars\".format(overall_loss))"
   ]
  },
  {
   "cell_type": "code",
   "execution_count": 43,
   "metadata": {},
   "outputs": [
    {
     "data": {
      "application/javascript": [
       "window.require && require([\"base/js/namespace\"],function(Jupyter){Jupyter.notebook.save_checkpoint()})"
      ],
      "text/plain": [
       "<IPython.core.display.Javascript object>"
      ]
     },
     "metadata": {},
     "output_type": "display_data"
    },
    {
     "name": "stdout",
     "output_type": "stream",
     "text": [
      "[jovian] Attempting to save notebook..\n",
      "[jovian] Updating notebook \"181b226/python-practice-assignment\" on https://jovian.ml/\n",
      "[jovian] Uploading notebook..\n",
      "[jovian] Committed successfully! https://jovian.ml/181b226/python-practice-assignment\n"
     ]
    },
    {
     "data": {
      "text/plain": [
       "'https://jovian.ml/181b226/python-practice-assignment'"
      ]
     },
     "execution_count": 43,
     "metadata": {},
     "output_type": "execute_result"
    }
   ],
   "source": [
    "jovian.commit(project=project_name,environment=None)"
   ]
  },
  {
   "cell_type": "markdown",
   "metadata": {},
   "source": [
    "# Problem 5 - Twitter Sentiment Analysis"
   ]
  },
  {
   "cell_type": "code",
   "execution_count": 44,
   "metadata": {},
   "outputs": [],
   "source": [
    "tweets = [\n",
    "    \"Wow, what a great day today!! #sunshine\",\n",
    "    \"I feel sad about the things going on around us. #covid19\",\n",
    "    \"I'm really excited to learn Python with @JovianML #zerotopandas\",\n",
    "    \"This is a really nice song. #linkinpark\",\n",
    "    \"The python programming language is useful for data science\",\n",
    "    \"Why do bad things happen to me?\",\n",
    "    \"Apple announces the release of the new iPhone 12. Fans are excited.\",\n",
    "    \"Spent my day with family!! #happy\",\n",
    "    \"Check out my blog post on common string operations in Python. #zerotopandas\",\n",
    "    \"Freecodecamp has great coding tutorials. #skillup\"\n",
    "]"
   ]
  },
  {
   "cell_type": "code",
   "execution_count": 45,
   "metadata": {},
   "outputs": [
    {
     "data": {
      "text/plain": [
       "10"
      ]
     },
     "execution_count": 45,
     "metadata": {},
     "output_type": "execute_result"
    }
   ],
   "source": [
    "number_of_tweets = len(tweets)\n",
    "number_of_tweets"
   ]
  },
  {
   "cell_type": "code",
   "execution_count": 46,
   "metadata": {},
   "outputs": [],
   "source": [
    "happy_words = ['great', 'excited', 'happy', 'nice', 'wonderful', 'amazing', 'good', 'best']\n",
    "sad_words = ['sad', 'bad', 'tragic', 'unhappy', 'worst']"
   ]
  },
  {
   "cell_type": "code",
   "execution_count": 48,
   "metadata": {},
   "outputs": [
    {
     "data": {
      "text/plain": [
       "\"I'm really excited to learn Python with @JovianML #zerotopandas\""
      ]
     },
     "execution_count": 48,
     "metadata": {},
     "output_type": "execute_result"
    }
   ],
   "source": [
    "sample_tweet = tweets[2]\n",
    "sample_tweet"
   ]
  },
  {
   "cell_type": "code",
   "execution_count": 49,
   "metadata": {},
   "outputs": [],
   "source": [
    "is_tweet_happy = False\n",
    "\n",
    "\n",
    "for word in happy_words:\n",
    "    \n",
    "    if word in sample_tweet:\n",
    "        # Word found! Mark the tweet as happy\n",
    "        is_tweet_happy = True"
   ]
  },
  {
   "cell_type": "code",
   "execution_count": 50,
   "metadata": {},
   "outputs": [
    {
     "data": {
      "text/plain": [
       "True"
      ]
     },
     "execution_count": 50,
     "metadata": {},
     "output_type": "execute_result"
    }
   ],
   "source": [
    "is_tweet_happy"
   ]
  },
  {
   "cell_type": "code",
   "execution_count": 53,
   "metadata": {},
   "outputs": [],
   "source": [
    "# store the final answer in this variable\n",
    "number_of_happy_tweets = 0\n",
    "\n",
    "# perform the calculations here\n",
    "\n",
    "for tweet in tweets:\n",
    "    for word in happy_words:\n",
    "        if word in tweet:\n",
    "            number_of_happy_tweets+=1\n",
    "\n"
   ]
  },
  {
   "cell_type": "code",
   "execution_count": 54,
   "metadata": {},
   "outputs": [
    {
     "name": "stdout",
     "output_type": "stream",
     "text": [
      "Number of happy tweets: 6\n"
     ]
    }
   ],
   "source": [
    "print(\"Number of happy tweets:\", number_of_happy_tweets)"
   ]
  },
  {
   "cell_type": "code",
   "execution_count": 55,
   "metadata": {},
   "outputs": [
    {
     "name": "stdout",
     "output_type": "stream",
     "text": [
      "The fraction of happy tweets is: 0.6\n"
     ]
    }
   ],
   "source": [
    "happy_fraction = number_of_happy_tweets/number_of_tweets\n",
    "print(\"The fraction of happy tweets is:\", happy_fraction)\n"
   ]
  },
  {
   "cell_type": "code",
   "execution_count": 56,
   "metadata": {},
   "outputs": [
    {
     "name": "stdout",
     "output_type": "stream",
     "text": [
      "Number of sad tweets: 2\n"
     ]
    }
   ],
   "source": [
    "# store the final answer in this variable\n",
    "number_of_sad_tweets = 0\n",
    "\n",
    "# perform the calculations here\n",
    "for tweet in tweets:\n",
    "    for word in sad_words:\n",
    "        if word in tweet:\n",
    "            number_of_sad_tweets+=1\n",
    "print(\"Number of sad tweets:\", number_of_sad_tweets)"
   ]
  },
  {
   "cell_type": "code",
   "execution_count": 57,
   "metadata": {},
   "outputs": [
    {
     "name": "stdout",
     "output_type": "stream",
     "text": [
      "The fraction of sad tweets is: 0.2\n"
     ]
    }
   ],
   "source": [
    "sad_fraction = number_of_sad_tweets/number_of_tweets\n",
    "print(\"The fraction of sad tweets is:\", sad_fraction)"
   ]
  },
  {
   "cell_type": "code",
   "execution_count": 58,
   "metadata": {},
   "outputs": [
    {
     "data": {
      "application/javascript": [
       "window.require && require([\"base/js/namespace\"],function(Jupyter){Jupyter.notebook.save_checkpoint()})"
      ],
      "text/plain": [
       "<IPython.core.display.Javascript object>"
      ]
     },
     "metadata": {},
     "output_type": "display_data"
    },
    {
     "name": "stdout",
     "output_type": "stream",
     "text": [
      "[jovian] Attempting to save notebook..\n",
      "[jovian] Updating notebook \"181b226/python-practice-assignment\" on https://jovian.ml/\n",
      "[jovian] Uploading notebook..\n",
      "[jovian] Committed successfully! https://jovian.ml/181b226/python-practice-assignment\n"
     ]
    },
    {
     "data": {
      "text/plain": [
       "'https://jovian.ml/181b226/python-practice-assignment'"
      ]
     },
     "execution_count": 58,
     "metadata": {},
     "output_type": "execute_result"
    }
   ],
   "source": [
    "jovian.commit(project=project_name,environment=None)"
   ]
  },
  {
   "cell_type": "markdown",
   "metadata": {},
   "source": [
    "# Q: Calculate the sentiment score, which is defined as the difference betweek the fraction of happy tweets and the fraction of sad tweets."
   ]
  },
  {
   "cell_type": "code",
   "execution_count": 59,
   "metadata": {},
   "outputs": [
    {
     "name": "stdout",
     "output_type": "stream",
     "text": [
      "The sentiment score for the given tweets is 0.39999999999999997\n"
     ]
    }
   ],
   "source": [
    "sentiment_score = happy_fraction - sad_fraction\n",
    "print(\"The sentiment score for the given tweets is\", sentiment_score)"
   ]
  },
  {
   "cell_type": "markdown",
   "metadata": {},
   "source": [
    "# Q : Display whether the overall sentiment of the given dataset of tweets is happy or sad, using the sentiment score.\n"
   ]
  },
  {
   "cell_type": "code",
   "execution_count": 61,
   "metadata": {},
   "outputs": [
    {
     "name": "stdout",
     "output_type": "stream",
     "text": [
      "The overall sentiment is happy\n"
     ]
    }
   ],
   "source": [
    "\n",
    "if sentiment_score > 0:\n",
    "    print(\"The overall sentiment is happy\")\n",
    "else:\n",
    "    print(\"The overall sentiment is sad\")"
   ]
  },
  {
   "cell_type": "markdown",
   "metadata": {},
   "source": [
    "# Q : What is the fraction of tweets that are neutral i.e. neither happy nor sad."
   ]
  },
  {
   "cell_type": "code",
   "execution_count": 62,
   "metadata": {},
   "outputs": [
    {
     "data": {
      "text/plain": [
       "2"
      ]
     },
     "execution_count": 62,
     "metadata": {},
     "output_type": "execute_result"
    }
   ],
   "source": [
    "number_of_neutral_tweets = number_of_tweets - (number_of_sad_tweets + number_of_happy_tweets)\n",
    "number_of_neutral_tweets"
   ]
  },
  {
   "cell_type": "code",
   "execution_count": 63,
   "metadata": {},
   "outputs": [
    {
     "name": "stdout",
     "output_type": "stream",
     "text": [
      "The fraction of neutral tweets is 0.2\n"
     ]
    }
   ],
   "source": [
    "neutral_fraction = number_of_neutral_tweets / number_of_tweets\n",
    "print('The fraction of neutral tweets is', neutral_fraction)"
   ]
  },
  {
   "cell_type": "code",
   "execution_count": 64,
   "metadata": {},
   "outputs": [
    {
     "data": {
      "application/javascript": [
       "window.require && require([\"base/js/namespace\"],function(Jupyter){Jupyter.notebook.save_checkpoint()})"
      ],
      "text/plain": [
       "<IPython.core.display.Javascript object>"
      ]
     },
     "metadata": {},
     "output_type": "display_data"
    },
    {
     "name": "stdout",
     "output_type": "stream",
     "text": [
      "[jovian] Attempting to save notebook..\n",
      "[jovian] Updating notebook \"181b226/python-practice-assignment\" on https://jovian.ml/\n",
      "[jovian] Uploading notebook..\n",
      "[jovian] Committed successfully! https://jovian.ml/181b226/python-practice-assignment\n"
     ]
    },
    {
     "data": {
      "text/plain": [
       "'https://jovian.ml/181b226/python-practice-assignment'"
      ]
     },
     "execution_count": 64,
     "metadata": {},
     "output_type": "execute_result"
    }
   ],
   "source": [
    "jovian.commit(project=project_name,environment=None)"
   ]
  },
  {
   "cell_type": "markdown",
   "metadata": {},
   "source": [
    "# THANK YOU"
   ]
  }
 ],
 "metadata": {
  "kernelspec": {
   "display_name": "Python 3",
   "language": "python",
   "name": "python3"
  },
  "language_info": {
   "codemirror_mode": {
    "name": "ipython",
    "version": 3
   },
   "file_extension": ".py",
   "mimetype": "text/x-python",
   "name": "python",
   "nbconvert_exporter": "python",
   "pygments_lexer": "ipython3",
   "version": "3.8.1"
  }
 },
 "nbformat": 4,
 "nbformat_minor": 4
}
